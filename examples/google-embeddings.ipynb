{
 "cells": [
  {
   "cell_type": "code",
   "execution_count": 1,
   "id": "60b0e5be",
   "metadata": {},
   "outputs": [
    {
     "name": "stdout",
     "output_type": "stream",
     "text": [
      "Requirement already satisfied: earthengine-api in c:\\users\\milos\\appdata\\local\\programs\\python\\python313\\lib\\site-packages (1.6.9)\n",
      "Requirement already satisfied: geemap in c:\\users\\milos\\appdata\\local\\programs\\python\\python313\\lib\\site-packages (0.36.3)\n",
      "Requirement already satisfied: folium in c:\\users\\milos\\appdata\\local\\programs\\python\\python313\\lib\\site-packages (0.20.0)\n",
      "Requirement already satisfied: rasterio in c:\\users\\milos\\appdata\\local\\programs\\python\\python313\\lib\\site-packages (1.4.3)\n",
      "Requirement already satisfied: numpy in c:\\users\\milos\\appdata\\local\\programs\\python\\python313\\lib\\site-packages (2.3.3)\n",
      "Requirement already satisfied: matplotlib in c:\\users\\milos\\appdata\\local\\programs\\python\\python313\\lib\\site-packages (3.10.6)\n",
      "Requirement already satisfied: google-cloud-storage in c:\\users\\milos\\appdata\\local\\programs\\python\\python313\\lib\\site-packages (from earthengine-api) (3.2.0)\n",
      "Requirement already satisfied: google-api-python-client>=1.12.1 in c:\\users\\milos\\appdata\\local\\programs\\python\\python313\\lib\\site-packages (from earthengine-api) (2.177.0)\n",
      "Requirement already satisfied: google-auth>=1.4.1 in c:\\users\\milos\\appdata\\local\\programs\\python\\python313\\lib\\site-packages (from earthengine-api) (2.40.3)\n",
      "Requirement already satisfied: google-auth-httplib2>=0.0.3 in c:\\users\\milos\\appdata\\local\\programs\\python\\python313\\lib\\site-packages (from earthengine-api) (0.2.0)\n",
      "Requirement already satisfied: httplib2<1dev,>=0.9.2 in c:\\users\\milos\\appdata\\local\\programs\\python\\python313\\lib\\site-packages (from earthengine-api) (0.22.0)\n",
      "Requirement already satisfied: requests in c:\\users\\milos\\appdata\\local\\programs\\python\\python313\\lib\\site-packages (from earthengine-api) (2.32.4)\n",
      "Requirement already satisfied: pyparsing!=3.0.0,!=3.0.1,!=3.0.2,!=3.0.3,<4,>=2.4.2 in c:\\users\\milos\\appdata\\local\\programs\\python\\python313\\lib\\site-packages (from httplib2<1dev,>=0.9.2->earthengine-api) (3.2.3)\n",
      "Requirement already satisfied: anywidget in c:\\users\\milos\\appdata\\local\\programs\\python\\python313\\lib\\site-packages (from geemap) (0.9.18)\n",
      "Requirement already satisfied: bqplot in c:\\users\\milos\\appdata\\local\\programs\\python\\python313\\lib\\site-packages (from geemap) (0.12.45)\n",
      "Requirement already satisfied: eerepr>=0.1.0 in c:\\users\\milos\\appdata\\local\\programs\\python\\python313\\lib\\site-packages (from geemap) (0.1.2)\n",
      "Requirement already satisfied: geocoder in c:\\users\\milos\\appdata\\local\\programs\\python\\python313\\lib\\site-packages (from geemap) (1.38.1)\n",
      "Requirement already satisfied: ipyevents in c:\\users\\milos\\appdata\\local\\programs\\python\\python313\\lib\\site-packages (from geemap) (2.0.2)\n",
      "Requirement already satisfied: ipyfilechooser>=0.6.0 in c:\\users\\milos\\appdata\\local\\programs\\python\\python313\\lib\\site-packages (from geemap) (0.6.0)\n",
      "Requirement already satisfied: ipyleaflet>=0.19.2 in c:\\users\\milos\\appdata\\local\\programs\\python\\python313\\lib\\site-packages (from geemap) (0.20.0)\n",
      "Requirement already satisfied: pandas in c:\\users\\milos\\appdata\\local\\programs\\python\\python313\\lib\\site-packages (from geemap) (2.3.1)\n",
      "Requirement already satisfied: plotly in c:\\users\\milos\\appdata\\local\\programs\\python\\python313\\lib\\site-packages (from geemap) (6.3.0)\n",
      "Requirement already satisfied: pyperclip in c:\\users\\milos\\appdata\\local\\programs\\python\\python313\\lib\\site-packages (from geemap) (1.9.0)\n",
      "Requirement already satisfied: pyshp>=2.3.1 in c:\\users\\milos\\appdata\\local\\programs\\python\\python313\\lib\\site-packages (from geemap) (2.3.1)\n",
      "Requirement already satisfied: python-box in c:\\users\\milos\\appdata\\local\\programs\\python\\python313\\lib\\site-packages (from geemap) (7.3.2)\n",
      "Requirement already satisfied: scooby in c:\\users\\milos\\appdata\\local\\programs\\python\\python313\\lib\\site-packages (from geemap) (0.10.1)\n",
      "Requirement already satisfied: branca>=0.6.0 in c:\\users\\milos\\appdata\\local\\programs\\python\\python313\\lib\\site-packages (from folium) (0.8.1)\n",
      "Requirement already satisfied: jinja2>=2.9 in c:\\users\\milos\\appdata\\local\\programs\\python\\python313\\lib\\site-packages (from folium) (3.1.6)\n",
      "Requirement already satisfied: xyzservices in c:\\users\\milos\\appdata\\local\\programs\\python\\python313\\lib\\site-packages (from folium) (2025.4.0)\n",
      "Requirement already satisfied: affine in c:\\users\\milos\\appdata\\local\\programs\\python\\python313\\lib\\site-packages (from rasterio) (2.4.0)\n",
      "Requirement already satisfied: attrs in c:\\users\\milos\\appdata\\local\\programs\\python\\python313\\lib\\site-packages (from rasterio) (25.3.0)\n",
      "Requirement already satisfied: certifi in c:\\users\\milos\\appdata\\local\\programs\\python\\python313\\lib\\site-packages (from rasterio) (2025.7.9)\n",
      "Requirement already satisfied: click>=4.0 in c:\\users\\milos\\appdata\\local\\programs\\python\\python313\\lib\\site-packages (from rasterio) (8.2.1)\n",
      "Requirement already satisfied: cligj>=0.5 in c:\\users\\milos\\appdata\\local\\programs\\python\\python313\\lib\\site-packages (from rasterio) (0.7.2)\n",
      "Requirement already satisfied: click-plugins in c:\\users\\milos\\appdata\\local\\programs\\python\\python313\\lib\\site-packages (from rasterio) (1.1.1.2)\n",
      "Requirement already satisfied: contourpy>=1.0.1 in c:\\users\\milos\\appdata\\local\\programs\\python\\python313\\lib\\site-packages (from matplotlib) (1.3.2)\n",
      "Requirement already satisfied: cycler>=0.10 in c:\\users\\milos\\appdata\\local\\programs\\python\\python313\\lib\\site-packages (from matplotlib) (0.12.1)\n",
      "Requirement already satisfied: fonttools>=4.22.0 in c:\\users\\milos\\appdata\\local\\programs\\python\\python313\\lib\\site-packages (from matplotlib) (4.58.5)\n",
      "Requirement already satisfied: kiwisolver>=1.3.1 in c:\\users\\milos\\appdata\\local\\programs\\python\\python313\\lib\\site-packages (from matplotlib) (1.4.8)\n",
      "Requirement already satisfied: packaging>=20.0 in c:\\users\\milos\\appdata\\local\\programs\\python\\python313\\lib\\site-packages (from matplotlib) (25.0)\n",
      "Requirement already satisfied: pillow>=8 in c:\\users\\milos\\appdata\\local\\programs\\python\\python313\\lib\\site-packages (from matplotlib) (11.3.0)\n",
      "Requirement already satisfied: python-dateutil>=2.7 in c:\\users\\milos\\appdata\\local\\programs\\python\\python313\\lib\\site-packages (from matplotlib) (2.9.0.post0)\n",
      "Requirement already satisfied: colorama in c:\\users\\milos\\appdata\\local\\programs\\python\\python313\\lib\\site-packages (from click>=4.0->rasterio) (0.4.6)\n",
      "Requirement already satisfied: google-api-core!=2.0.*,!=2.1.*,!=2.2.*,!=2.3.0,<3.0.0,>=1.31.5 in c:\\users\\milos\\appdata\\local\\programs\\python\\python313\\lib\\site-packages (from google-api-python-client>=1.12.1->earthengine-api) (2.25.1)\n",
      "Requirement already satisfied: uritemplate<5,>=3.0.1 in c:\\users\\milos\\appdata\\local\\programs\\python\\python313\\lib\\site-packages (from google-api-python-client>=1.12.1->earthengine-api) (4.2.0)\n",
      "Requirement already satisfied: googleapis-common-protos<2.0.0,>=1.56.2 in c:\\users\\milos\\appdata\\local\\programs\\python\\python313\\lib\\site-packages (from google-api-core!=2.0.*,!=2.1.*,!=2.2.*,!=2.3.0,<3.0.0,>=1.31.5->google-api-python-client>=1.12.1->earthengine-api) (1.70.0)\n",
      "Requirement already satisfied: protobuf!=3.20.0,!=3.20.1,!=4.21.0,!=4.21.1,!=4.21.2,!=4.21.3,!=4.21.4,!=4.21.5,<7.0.0,>=3.19.5 in c:\\users\\milos\\appdata\\local\\programs\\python\\python313\\lib\\site-packages (from google-api-core!=2.0.*,!=2.1.*,!=2.2.*,!=2.3.0,<3.0.0,>=1.31.5->google-api-python-client>=1.12.1->earthengine-api) (6.31.1)\n",
      "Requirement already satisfied: proto-plus<2.0.0,>=1.22.3 in c:\\users\\milos\\appdata\\local\\programs\\python\\python313\\lib\\site-packages (from google-api-core!=2.0.*,!=2.1.*,!=2.2.*,!=2.3.0,<3.0.0,>=1.31.5->google-api-python-client>=1.12.1->earthengine-api) (1.26.1)\n",
      "Requirement already satisfied: cachetools<6.0,>=2.0.0 in c:\\users\\milos\\appdata\\local\\programs\\python\\python313\\lib\\site-packages (from google-auth>=1.4.1->earthengine-api) (5.5.2)\n",
      "Requirement already satisfied: pyasn1-modules>=0.2.1 in c:\\users\\milos\\appdata\\local\\programs\\python\\python313\\lib\\site-packages (from google-auth>=1.4.1->earthengine-api) (0.4.2)\n",
      "Requirement already satisfied: rsa<5,>=3.1.4 in c:\\users\\milos\\appdata\\local\\programs\\python\\python313\\lib\\site-packages (from google-auth>=1.4.1->earthengine-api) (4.9.1)\n",
      "Requirement already satisfied: charset_normalizer<4,>=2 in c:\\users\\milos\\appdata\\local\\programs\\python\\python313\\lib\\site-packages (from requests->earthengine-api) (3.4.2)\n",
      "Requirement already satisfied: idna<4,>=2.5 in c:\\users\\milos\\appdata\\local\\programs\\python\\python313\\lib\\site-packages (from requests->earthengine-api) (3.10)\n",
      "Requirement already satisfied: urllib3<3,>=1.21.1 in c:\\users\\milos\\appdata\\local\\programs\\python\\python313\\lib\\site-packages (from requests->earthengine-api) (2.5.0)\n",
      "Requirement already satisfied: pyasn1>=0.1.3 in c:\\users\\milos\\appdata\\local\\programs\\python\\python313\\lib\\site-packages (from rsa<5,>=3.1.4->google-auth>=1.4.1->earthengine-api) (0.6.1)\n",
      "Requirement already satisfied: ipywidgets in c:\\users\\milos\\appdata\\local\\programs\\python\\python313\\lib\\site-packages (from ipyfilechooser>=0.6.0->geemap) (8.1.7)\n",
      "Requirement already satisfied: jupyter-leaflet<0.21,>=0.20 in c:\\users\\milos\\appdata\\local\\programs\\python\\python313\\lib\\site-packages (from ipyleaflet>=0.19.2->geemap) (0.20.0)\n",
      "Requirement already satisfied: traittypes<3,>=0.2.1 in c:\\users\\milos\\appdata\\local\\programs\\python\\python313\\lib\\site-packages (from ipyleaflet>=0.19.2->geemap) (0.2.1)\n",
      "Requirement already satisfied: comm>=0.1.3 in c:\\users\\milos\\appdata\\roaming\\python\\python313\\site-packages (from ipywidgets->ipyfilechooser>=0.6.0->geemap) (0.2.3)\n",
      "Requirement already satisfied: ipython>=6.1.0 in c:\\users\\milos\\appdata\\roaming\\python\\python313\\site-packages (from ipywidgets->ipyfilechooser>=0.6.0->geemap) (9.4.0)\n",
      "Requirement already satisfied: traitlets>=4.3.1 in c:\\users\\milos\\appdata\\roaming\\python\\python313\\site-packages (from ipywidgets->ipyfilechooser>=0.6.0->geemap) (5.14.3)\n",
      "Requirement already satisfied: widgetsnbextension~=4.0.14 in c:\\users\\milos\\appdata\\local\\programs\\python\\python313\\lib\\site-packages (from ipywidgets->ipyfilechooser>=0.6.0->geemap) (4.0.14)\n",
      "Requirement already satisfied: jupyterlab_widgets~=3.0.15 in c:\\users\\milos\\appdata\\local\\programs\\python\\python313\\lib\\site-packages (from ipywidgets->ipyfilechooser>=0.6.0->geemap) (3.0.15)\n",
      "Requirement already satisfied: decorator in c:\\users\\milos\\appdata\\roaming\\python\\python313\\site-packages (from ipython>=6.1.0->ipywidgets->ipyfilechooser>=0.6.0->geemap) (5.2.1)\n",
      "Requirement already satisfied: ipython-pygments-lexers in c:\\users\\milos\\appdata\\roaming\\python\\python313\\site-packages (from ipython>=6.1.0->ipywidgets->ipyfilechooser>=0.6.0->geemap) (1.1.1)\n",
      "Requirement already satisfied: jedi>=0.16 in c:\\users\\milos\\appdata\\roaming\\python\\python313\\site-packages (from ipython>=6.1.0->ipywidgets->ipyfilechooser>=0.6.0->geemap) (0.19.2)\n",
      "Requirement already satisfied: matplotlib-inline in c:\\users\\milos\\appdata\\roaming\\python\\python313\\site-packages (from ipython>=6.1.0->ipywidgets->ipyfilechooser>=0.6.0->geemap) (0.1.7)\n",
      "Requirement already satisfied: prompt_toolkit<3.1.0,>=3.0.41 in c:\\users\\milos\\appdata\\roaming\\python\\python313\\site-packages (from ipython>=6.1.0->ipywidgets->ipyfilechooser>=0.6.0->geemap) (3.0.51)\n",
      "Requirement already satisfied: pygments>=2.4.0 in c:\\users\\milos\\appdata\\local\\programs\\python\\python313\\lib\\site-packages (from ipython>=6.1.0->ipywidgets->ipyfilechooser>=0.6.0->geemap) (2.19.2)\n",
      "Requirement already satisfied: stack_data in c:\\users\\milos\\appdata\\roaming\\python\\python313\\site-packages (from ipython>=6.1.0->ipywidgets->ipyfilechooser>=0.6.0->geemap) (0.6.3)\n",
      "Requirement already satisfied: wcwidth in c:\\users\\milos\\appdata\\roaming\\python\\python313\\site-packages (from prompt_toolkit<3.1.0,>=3.0.41->ipython>=6.1.0->ipywidgets->ipyfilechooser>=0.6.0->geemap) (0.2.13)\n",
      "Requirement already satisfied: parso<0.9.0,>=0.8.4 in c:\\users\\milos\\appdata\\roaming\\python\\python313\\site-packages (from jedi>=0.16->ipython>=6.1.0->ipywidgets->ipyfilechooser>=0.6.0->geemap) (0.8.4)\n",
      "Requirement already satisfied: MarkupSafe>=2.0 in c:\\users\\milos\\appdata\\local\\programs\\python\\python313\\lib\\site-packages (from jinja2>=2.9->folium) (3.0.2)\n",
      "Requirement already satisfied: six>=1.5 in c:\\users\\milos\\appdata\\local\\programs\\python\\python313\\lib\\site-packages (from python-dateutil>=2.7->matplotlib) (1.17.0)\n",
      "Requirement already satisfied: psygnal>=0.8.1 in c:\\users\\milos\\appdata\\local\\programs\\python\\python313\\lib\\site-packages (from anywidget->geemap) (0.14.1)\n",
      "Requirement already satisfied: typing-extensions>=4.2.0 in c:\\users\\milos\\appdata\\local\\programs\\python\\python313\\lib\\site-packages (from anywidget->geemap) (4.14.1)\n",
      "Requirement already satisfied: pytz>=2020.1 in c:\\users\\milos\\appdata\\local\\programs\\python\\python313\\lib\\site-packages (from pandas->geemap) (2025.2)\n",
      "Requirement already satisfied: tzdata>=2022.7 in c:\\users\\milos\\appdata\\local\\programs\\python\\python313\\lib\\site-packages (from pandas->geemap) (2025.2)\n",
      "Requirement already satisfied: future in c:\\users\\milos\\appdata\\local\\programs\\python\\python313\\lib\\site-packages (from geocoder->geemap) (1.0.0)\n",
      "Requirement already satisfied: ratelim in c:\\users\\milos\\appdata\\local\\programs\\python\\python313\\lib\\site-packages (from geocoder->geemap) (0.1.6)\n",
      "Requirement already satisfied: google-cloud-core<3.0.0,>=2.4.2 in c:\\users\\milos\\appdata\\local\\programs\\python\\python313\\lib\\site-packages (from google-cloud-storage->earthengine-api) (2.4.3)\n",
      "Requirement already satisfied: google-resumable-media<3.0.0,>=2.7.2 in c:\\users\\milos\\appdata\\local\\programs\\python\\python313\\lib\\site-packages (from google-cloud-storage->earthengine-api) (2.7.2)\n",
      "Requirement already satisfied: google-crc32c<2.0.0,>=1.1.3 in c:\\users\\milos\\appdata\\local\\programs\\python\\python313\\lib\\site-packages (from google-cloud-storage->earthengine-api) (1.7.1)\n",
      "Requirement already satisfied: narwhals>=1.15.1 in c:\\users\\milos\\appdata\\local\\programs\\python\\python313\\lib\\site-packages (from plotly->geemap) (2.1.2)\n",
      "Requirement already satisfied: executing>=1.2.0 in c:\\users\\milos\\appdata\\roaming\\python\\python313\\site-packages (from stack_data->ipython>=6.1.0->ipywidgets->ipyfilechooser>=0.6.0->geemap) (2.2.0)\n",
      "Requirement already satisfied: asttokens>=2.1.0 in c:\\users\\milos\\appdata\\roaming\\python\\python313\\site-packages (from stack_data->ipython>=6.1.0->ipywidgets->ipyfilechooser>=0.6.0->geemap) (3.0.0)\n",
      "Requirement already satisfied: pure-eval in c:\\users\\milos\\appdata\\roaming\\python\\python313\\site-packages (from stack_data->ipython>=6.1.0->ipywidgets->ipyfilechooser>=0.6.0->geemap) (0.2.3)\n",
      "Note: you may need to restart the kernel to use updated packages.\n"
     ]
    }
   ],
   "source": [
    "%pip install -U earthengine-api geemap folium rasterio numpy matplotlib"
   ]
  },
  {
   "cell_type": "code",
   "execution_count": 2,
   "id": "a2afdd5b",
   "metadata": {},
   "outputs": [],
   "source": [
    "import ee\n",
    "import geemap\n",
    "import geemap.foliumap as geefolium\n",
    "import folium\n",
    "import numpy as np\n",
    "import rasterio\n",
    "import matplotlib.pyplot as plt"
   ]
  },
  {
   "cell_type": "code",
   "execution_count": 3,
   "id": "afdda5fc",
   "metadata": {},
   "outputs": [
    {
     "data": {
      "text/html": [
       "\n",
       "            <style>\n",
       "                .geemap-dark {\n",
       "                    --jp-widgets-color: white;\n",
       "                    --jp-widgets-label-color: white;\n",
       "                    --jp-ui-font-color1: white;\n",
       "                    --jp-layout-color2: #454545;\n",
       "                    background-color: #383838;\n",
       "                }\n",
       "\n",
       "                .geemap-dark .jupyter-button {\n",
       "                    --jp-layout-color3: #383838;\n",
       "                }\n",
       "\n",
       "                .geemap-colab {\n",
       "                    background-color: var(--colab-primary-surface-color, white);\n",
       "                }\n",
       "\n",
       "                .geemap-colab .jupyter-button {\n",
       "                    --jp-layout-color3: var(--colab-primary-surface-color, white);\n",
       "                }\n",
       "            </style>\n",
       "            "
      ],
      "text/plain": [
       "<IPython.core.display.HTML object>"
      ]
     },
     "metadata": {},
     "output_type": "display_data"
    }
   ],
   "source": [
    "# ---- SECTION 1: Setup and Environment Configuration ----\n",
    "from pathlib import Path\n",
    "\n",
    "OUTDIR = Path(\"ee_outputs\")\n",
    "OUTDIR.mkdir(parents=True, exist_ok=True)\n",
    "\n",
    "# Optional: set EE project from environment\n",
    "EE_PROJECT = \"ee-milos-makes-maps\" # add your own here"
   ]
  },
  {
   "cell_type": "code",
   "execution_count": 4,
   "id": "1bcf9da7",
   "metadata": {},
   "outputs": [
    {
     "data": {
      "text/html": [
       "\n",
       "            <style>\n",
       "                .geemap-dark {\n",
       "                    --jp-widgets-color: white;\n",
       "                    --jp-widgets-label-color: white;\n",
       "                    --jp-ui-font-color1: white;\n",
       "                    --jp-layout-color2: #454545;\n",
       "                    background-color: #383838;\n",
       "                }\n",
       "\n",
       "                .geemap-dark .jupyter-button {\n",
       "                    --jp-layout-color3: #383838;\n",
       "                }\n",
       "\n",
       "                .geemap-colab {\n",
       "                    background-color: var(--colab-primary-surface-color, white);\n",
       "                }\n",
       "\n",
       "                .geemap-colab .jupyter-button {\n",
       "                    --jp-layout-color3: var(--colab-primary-surface-color, white);\n",
       "                }\n",
       "            </style>\n",
       "            "
      ],
      "text/plain": [
       "<IPython.core.display.HTML object>"
      ]
     },
     "metadata": {},
     "output_type": "display_data"
    },
    {
     "name": "stderr",
     "output_type": "stream",
     "text": [
      "*** Earth Engine *** Share your feedback by taking our Annual Developer Satisfaction Survey: https://google.qualtrics.com/jfe/form/SV_7TDKVSyKvBdmMqW?ref=4i2o6\n"
     ]
    }
   ],
   "source": [
    "# ---- SECTION 2: Earth Engine Authentication and Initialization ----\n",
    "try:\n",
    "    if EE_PROJECT:\n",
    "        ee.Initialize(project=EE_PROJECT)\n",
    "    else:\n",
    "        ee.Initialize()\n",
    "except Exception:\n",
    "    ee.Authenticate()\n",
    "    if EE_PROJECT:\n",
    "        ee.Initialize(project=EE_PROJECT)\n",
    "    else:\n",
    "        ee.Initialize()"
   ]
  },
  {
   "cell_type": "code",
   "execution_count": 5,
   "id": "196a06a1",
   "metadata": {},
   "outputs": [
    {
     "data": {
      "text/html": [
       "\n",
       "            <style>\n",
       "                .geemap-dark {\n",
       "                    --jp-widgets-color: white;\n",
       "                    --jp-widgets-label-color: white;\n",
       "                    --jp-ui-font-color1: white;\n",
       "                    --jp-layout-color2: #454545;\n",
       "                    background-color: #383838;\n",
       "                }\n",
       "\n",
       "                .geemap-dark .jupyter-button {\n",
       "                    --jp-layout-color3: #383838;\n",
       "                }\n",
       "\n",
       "                .geemap-colab {\n",
       "                    background-color: var(--colab-primary-surface-color, white);\n",
       "                }\n",
       "\n",
       "                .geemap-colab .jupyter-button {\n",
       "                    --jp-layout-color3: var(--colab-primary-surface-color, white);\n",
       "                }\n",
       "            </style>\n",
       "            "
      ],
      "text/plain": [
       "<IPython.core.display.HTML object>"
      ]
     },
     "metadata": {},
     "output_type": "display_data"
    },
    {
     "name": "stdout",
     "output_type": "stream",
     "text": [
      "connectivity test:  3\n"
     ]
    }
   ],
   "source": [
    "# Quick connectivity test - should print 3\n",
    "connectivity_test = ee.Number(1).add(2).getInfo()\n",
    "print(\"connectivity test: \", connectivity_test)"
   ]
  },
  {
   "cell_type": "code",
   "execution_count": 6,
   "id": "577e430a",
   "metadata": {},
   "outputs": [
    {
     "data": {
      "text/html": [
       "\n",
       "            <style>\n",
       "                .geemap-dark {\n",
       "                    --jp-widgets-color: white;\n",
       "                    --jp-widgets-label-color: white;\n",
       "                    --jp-ui-font-color1: white;\n",
       "                    --jp-layout-color2: #454545;\n",
       "                    background-color: #383838;\n",
       "                }\n",
       "\n",
       "                .geemap-dark .jupyter-button {\n",
       "                    --jp-layout-color3: #383838;\n",
       "                }\n",
       "\n",
       "                .geemap-colab {\n",
       "                    background-color: var(--colab-primary-surface-color, white);\n",
       "                }\n",
       "\n",
       "                .geemap-colab .jupyter-button {\n",
       "                    --jp-layout-color3: var(--colab-primary-surface-color, white);\n",
       "                }\n",
       "            </style>\n",
       "            "
      ],
      "text/plain": [
       "<IPython.core.display.HTML object>"
      ]
     },
     "metadata": {},
     "output_type": "display_data"
    }
   ],
   "source": [
    "# ---- SECTION 3: Area of Interest (AOI) Definition ----\n",
    "# 83.919067, 28.190059, 83.977776, 28.235137\n",
    "xmin, ymin = 83.919067, 28.190059\n",
    "xmax, ymax = 83.977776, 28.235137\n",
    "\n",
    "region = ee.Geometry.Polygon([[\n",
    "    [xmin, ymin], [xmin, ymax],\n",
    "    [xmax, ymax], [xmax, ymin]\n",
    "]])"
   ]
  },
  {
   "cell_type": "code",
   "execution_count": 7,
   "id": "b077eb7f",
   "metadata": {},
   "outputs": [
    {
     "data": {
      "text/html": [
       "\n",
       "            <style>\n",
       "                .geemap-dark {\n",
       "                    --jp-widgets-color: white;\n",
       "                    --jp-widgets-label-color: white;\n",
       "                    --jp-ui-font-color1: white;\n",
       "                    --jp-layout-color2: #454545;\n",
       "                    background-color: #383838;\n",
       "                }\n",
       "\n",
       "                .geemap-dark .jupyter-button {\n",
       "                    --jp-layout-color3: #383838;\n",
       "                }\n",
       "\n",
       "                .geemap-colab {\n",
       "                    background-color: var(--colab-primary-surface-color, white);\n",
       "                }\n",
       "\n",
       "                .geemap-colab .jupyter-button {\n",
       "                    --jp-layout-color3: var(--colab-primary-surface-color, white);\n",
       "                }\n",
       "            </style>\n",
       "            "
      ],
      "text/plain": [
       "<IPython.core.display.HTML object>"
      ]
     },
     "metadata": {},
     "output_type": "display_data"
    }
   ],
   "source": [
    "# ========================================================================\n",
    "# PART I: CLUSTERING ANALYSIS\n",
    "# ========================================================================\n",
    "\n",
    "# ---- SECTION 4: Satellite Embeddings Data Acquisition ----\n",
    "embeddings_ic = ee.ImageCollection(\"GOOGLE/SATELLITE_EMBEDDING/V1/ANNUAL\") \\\n",
    "    .filterDate(\"2024-01-01\", \"2025-01-01\") \\\n",
    "    .filterBounds(region)\n",
    "\n",
    "embeddings_image = embeddings_ic.mosaic().clip(region).toFloat()"
   ]
  },
  {
   "cell_type": "code",
   "execution_count": 8,
   "id": "03e76f4a",
   "metadata": {},
   "outputs": [
    {
     "data": {
      "text/html": [
       "\n",
       "            <style>\n",
       "                .geemap-dark {\n",
       "                    --jp-widgets-color: white;\n",
       "                    --jp-widgets-label-color: white;\n",
       "                    --jp-ui-font-color1: white;\n",
       "                    --jp-layout-color2: #454545;\n",
       "                    background-color: #383838;\n",
       "                }\n",
       "\n",
       "                .geemap-dark .jupyter-button {\n",
       "                    --jp-layout-color3: #383838;\n",
       "                }\n",
       "\n",
       "                .geemap-colab {\n",
       "                    background-color: var(--colab-primary-surface-color, white);\n",
       "                }\n",
       "\n",
       "                .geemap-colab .jupyter-button {\n",
       "                    --jp-layout-color3: var(--colab-primary-surface-color, white);\n",
       "                }\n",
       "            </style>\n",
       "            "
      ],
      "text/plain": [
       "<IPython.core.display.HTML object>"
      ]
     },
     "metadata": {},
     "output_type": "display_data"
    }
   ],
   "source": [
    "# ---- SECTION 5: Training Data Generation for Clustering ----\n",
    "n_samples = 1000\n",
    "training = embeddings_image.sample(\n",
    "    region=region, scale = 10, numPixels = n_samples,\n",
    "    seed = 100, geometries = False\n",
    ")"
   ]
  },
  {
   "cell_type": "code",
   "execution_count": 11,
   "id": "f6598297",
   "metadata": {},
   "outputs": [
    {
     "data": {
      "text/html": [
       "\n",
       "            <style>\n",
       "                .geemap-dark {\n",
       "                    --jp-widgets-color: white;\n",
       "                    --jp-widgets-label-color: white;\n",
       "                    --jp-ui-font-color1: white;\n",
       "                    --jp-layout-color2: #454545;\n",
       "                    background-color: #383838;\n",
       "                }\n",
       "\n",
       "                .geemap-dark .jupyter-button {\n",
       "                    --jp-layout-color3: #383838;\n",
       "                }\n",
       "\n",
       "                .geemap-colab {\n",
       "                    background-color: var(--colab-primary-surface-color, white);\n",
       "                }\n",
       "\n",
       "                .geemap-colab .jupyter-button {\n",
       "                    --jp-layout-color3: var(--colab-primary-surface-color, white);\n",
       "                }\n",
       "            </style>\n",
       "            "
      ],
      "text/plain": [
       "<IPython.core.display.HTML object>"
      ]
     },
     "metadata": {},
     "output_type": "display_data"
    }
   ],
   "source": [
    "# ---- SECTION 6: K-means Clustering Function ----\n",
    "def get_clusters(n_clusters: int) -> ee.Image:\n",
    "    clusterer = ee.Clusterer.wekaKMeans(nClusters=int(n_clusters)).train(training)\n",
    "    clustered = embeddings_image.cluster(clusterer)\n",
    "    return clustered\n",
    "\n",
    "clustered_k5 = get_clusters(5)"
   ]
  },
  {
   "cell_type": "code",
   "execution_count": null,
   "id": "81d5df7d",
   "metadata": {},
   "outputs": [
    {
     "data": {
      "text/html": [
       "\n",
       "            <style>\n",
       "                .geemap-dark {\n",
       "                    --jp-widgets-color: white;\n",
       "                    --jp-widgets-label-color: white;\n",
       "                    --jp-ui-font-color1: white;\n",
       "                    --jp-layout-color2: #454545;\n",
       "                    background-color: #383838;\n",
       "                }\n",
       "\n",
       "                .geemap-dark .jupyter-button {\n",
       "                    --jp-layout-color3: #383838;\n",
       "                }\n",
       "\n",
       "                .geemap-colab {\n",
       "                    background-color: var(--colab-primary-surface-color, white);\n",
       "                }\n",
       "\n",
       "                .geemap-colab .jupyter-button {\n",
       "                    --jp-layout-color3: var(--colab-primary-surface-color, white);\n",
       "                }\n",
       "            </style>\n",
       "            "
      ],
      "text/plain": [
       "<IPython.core.display.HTML object>"
      ]
     },
     "metadata": {},
     "output_type": "display_data"
    }
   ],
   "source": [
    "# ---- SECTION 7–8: Interactive Visualization (saved to HTML) ----\n",
    "# Kelly's 22 colors (distinct). Use first N for discrete classes.\n",
    "kelly22 = [\n",
    "    \"#F3C300\",\"#875692\",\"#F38400\",\"#A1CAF1\",\"#BE0032\",\"#C2B280\",\"#848482\",\"#008856\",\n",
    "    \"#E68FAC\",\"#0067A5\",\"#F99379\",\"#604E97\",\"#F6A600\",\"#B3446C\",\"#DCD300\",\"#882D17\",\n",
    "    \"#8DB600\",\"#654522\",\"#E25822\",\"#2B3D26\",\"#F2F3F4\",\"#222222\"\n",
    "]\n",
    "\n",
    "vis_k5 = dict(min = 0, max = 4, palette = kelly22[:5]) # MUST BE =\n",
    "m = geefolium.Map(location = [ymin, xmin], zoom_start = 13, control_scale = True)\n",
    "m.add_basemap(\"SATELLITE\")\n",
    "m.addLayer(clustered_k5.toInt(), vis_k5, \"K=5 clusters\")\n",
    "m.fit_bounds([[ymin, xmin]], [[ymax, xmax]])\n",
    "map_path = OUTDIR / \"map_kp.html\"\n",
    "m.save(str(map_path))"
   ]
  },
  {
   "cell_type": "code",
   "execution_count": 14,
   "id": "e603dc15",
   "metadata": {},
   "outputs": [
    {
     "data": {
      "text/html": [
       "\n",
       "            <style>\n",
       "                .geemap-dark {\n",
       "                    --jp-widgets-color: white;\n",
       "                    --jp-widgets-label-color: white;\n",
       "                    --jp-ui-font-color1: white;\n",
       "                    --jp-layout-color2: #454545;\n",
       "                    background-color: #383838;\n",
       "                }\n",
       "\n",
       "                .geemap-dark .jupyter-button {\n",
       "                    --jp-layout-color3: #383838;\n",
       "                }\n",
       "\n",
       "                .geemap-colab {\n",
       "                    background-color: var(--colab-primary-surface-color, white);\n",
       "                }\n",
       "\n",
       "                .geemap-colab .jupyter-button {\n",
       "                    --jp-layout-color3: var(--colab-primary-surface-color, white);\n",
       "                }\n",
       "            </style>\n",
       "            "
      ],
      "text/plain": [
       "<IPython.core.display.HTML object>"
      ]
     },
     "metadata": {},
     "output_type": "display_data"
    },
    {
     "name": "stdout",
     "output_type": "stream",
     "text": [
      "Generating URL ...\n",
      "Downloading data from https://earthengine.googleapis.com/v1/projects/ee-milos-makes-maps/thumbnails/34505d8cc9465193ed13e3454321d8b1-28e5043ad65733112c1dfd0e56d23040:getPixels\n",
      "Please wait ...\n",
      "Data downloaded to d:\\python-scripts\\ee_outputs\\clusters_k3.tif\n",
      "Generating URL ...\n",
      "Downloading data from https://earthengine.googleapis.com/v1/projects/ee-milos-makes-maps/thumbnails/e7f5393562fadafe5de84a1eff5182af-39cc40dfef5b929bd517251a6a42829e:getPixels\n",
      "Please wait ...\n",
      "Data downloaded to d:\\python-scripts\\ee_outputs\\clusters_k5.tif\n",
      "Generating URL ...\n",
      "Downloading data from https://earthengine.googleapis.com/v1/projects/ee-milos-makes-maps/thumbnails/bfa1efad213bd54d19c3e993e23c2a7c-2df53ca8b2fcdba5f3ad5ee6c1a0d153:getPixels\n",
      "Please wait ...\n",
      "Data downloaded to d:\\python-scripts\\ee_outputs\\clusters_k10.tif\n"
     ]
    }
   ],
   "source": [
    "# %%\n",
    "# ---- SECTION 9–10: Export K = 3, 5, 10 locally (GeoTIFF) ----\n",
    "def export_cluster_local(k: int, outdir: Path = OUTDIR):\n",
    "    img = get_clusters(k).toInt().clip(region)\n",
    "    tif = outdir / f\"clusters_k{k}.tif\"\n",
    "    geemap.ee_export_image(img, str(tif), scale = 10, region = region, file_per_band=False)\n",
    "    return(tif)\n",
    "\n",
    "cluster_values = [3, 5, 10]\n",
    "cluster_paths = [export_cluster_local(k) for k in cluster_values]"
   ]
  },
  {
   "cell_type": "code",
   "execution_count": 16,
   "id": "452acea8",
   "metadata": {},
   "outputs": [
    {
     "data": {
      "text/html": [
       "\n",
       "            <style>\n",
       "                .geemap-dark {\n",
       "                    --jp-widgets-color: white;\n",
       "                    --jp-widgets-label-color: white;\n",
       "                    --jp-ui-font-color1: white;\n",
       "                    --jp-layout-color2: #454545;\n",
       "                    background-color: #383838;\n",
       "                }\n",
       "\n",
       "                .geemap-dark .jupyter-button {\n",
       "                    --jp-layout-color3: #383838;\n",
       "                }\n",
       "\n",
       "                .geemap-colab {\n",
       "                    background-color: var(--colab-primary-surface-color, white);\n",
       "                }\n",
       "\n",
       "                .geemap-colab .jupyter-button {\n",
       "                    --jp-layout-color3: var(--colab-primary-surface-color, white);\n",
       "                }\n",
       "            </style>\n",
       "            "
      ],
      "text/plain": [
       "<IPython.core.display.HTML object>"
      ]
     },
     "metadata": {},
     "output_type": "display_data"
    }
   ],
   "source": [
    "# ---- SECTION 12: Multi-panel Visualization of clusters ----\n",
    "def read_single_band(path: Path):\n",
    "    with rasterio.open(path) as src:\n",
    "        arr = src.read(1)\n",
    "        extent = (src.bounds.left, src.bounds.right, src.bounds.bottom, src.bounds.top)\n",
    "        transform = src.transform\n",
    "        crs = src.crs\n",
    "    return arr, extent, transform, crs\n",
    "\n",
    "arr5, extent5, transform5, crs5 = read_single_band(OUTDIR / \"clusters_k5.tif\")\n",
    "arr3, _, _, _ = read_single_band(OUTDIR / \"clusters_k3.tif\")\n",
    "arr10, _, _, _ = read_single_band(OUTDIR / \"clusters_k10.tif\")"
   ]
  },
  {
   "cell_type": "code",
   "execution_count": 18,
   "id": "831f6fa1",
   "metadata": {},
   "outputs": [
    {
     "data": {
      "text/html": [
       "\n",
       "            <style>\n",
       "                .geemap-dark {\n",
       "                    --jp-widgets-color: white;\n",
       "                    --jp-widgets-label-color: white;\n",
       "                    --jp-ui-font-color1: white;\n",
       "                    --jp-layout-color2: #454545;\n",
       "                    background-color: #383838;\n",
       "                }\n",
       "\n",
       "                .geemap-dark .jupyter-button {\n",
       "                    --jp-layout-color3: #383838;\n",
       "                }\n",
       "\n",
       "                .geemap-colab {\n",
       "                    background-color: var(--colab-primary-surface-color, white);\n",
       "                }\n",
       "\n",
       "                .geemap-colab .jupyter-button {\n",
       "                    --jp-layout-color3: var(--colab-primary-surface-color, white);\n",
       "                }\n",
       "            </style>\n",
       "            "
      ],
      "text/plain": [
       "<IPython.core.display.HTML object>"
      ]
     },
     "metadata": {},
     "output_type": "display_data"
    }
   ],
   "source": [
    "fig, axs = plt.subplots(1, 3, figsize=(12,4), constrained_layout=True)\n",
    "for ax, (arr, title, k) in zip(\n",
    "    axs,\n",
    "    [(arr3, \"K = 3\", 3), (arr5, \"K = 5\", 5), (arr10, \"K = 10\", 10)]\n",
    "):\n",
    "    from matplotlib.colors import ListedColormap, BoundaryNorm\n",
    "    cmap = ListedColormap(kelly22[:k])\n",
    "    bounds = np.arange(-0.5, k + 0.5, 1)\n",
    "    norm = BoundaryNorm(bounds, cmap.N)\n",
    "    im = ax.imshow(arr, cmap=cmap, norm=norm)\n",
    "    ax.set_title(title)\n",
    "    ax.set_xticks([]); ax.set_yticks([])\n",
    "\n",
    "panel_png = OUTDIR / \"clusters_panel.png\"\n",
    "plt.savefig(panel_png, dpi = 300, bbox_inches = \"tight\")\n",
    "plt.close(fig)\n"
   ]
  },
  {
   "cell_type": "code",
   "execution_count": 19,
   "id": "c599f05a",
   "metadata": {},
   "outputs": [
    {
     "data": {
      "text/html": [
       "\n",
       "            <style>\n",
       "                .geemap-dark {\n",
       "                    --jp-widgets-color: white;\n",
       "                    --jp-widgets-label-color: white;\n",
       "                    --jp-ui-font-color1: white;\n",
       "                    --jp-layout-color2: #454545;\n",
       "                    background-color: #383838;\n",
       "                }\n",
       "\n",
       "                .geemap-dark .jupyter-button {\n",
       "                    --jp-layout-color3: #383838;\n",
       "                }\n",
       "\n",
       "                .geemap-colab {\n",
       "                    background-color: var(--colab-primary-surface-color, white);\n",
       "                }\n",
       "\n",
       "                .geemap-colab .jupyter-button {\n",
       "                    --jp-layout-color3: var(--colab-primary-surface-color, white);\n",
       "                }\n",
       "            </style>\n",
       "            "
      ],
      "text/plain": [
       "<IPython.core.display.HTML object>"
      ]
     },
     "metadata": {},
     "output_type": "display_data"
    }
   ],
   "source": [
    "# ========================================================================\n",
    "# PART II: CHANGE DETECTION ANALYSIS (computed server-side in EE)\n",
    "# ========================================================================\n",
    "\n",
    "# ---- SECTION 13–14: Multi-temporal Data + Exports (local) ----\n",
    "def get_satellite_embeddings(y0: int, y1: int) -> ee.Image:\n",
    "    return(ee.ImageCollection(\"GOOGLE/SATELLITE_EMBEDDING/V1/ANNUAL\")\n",
    "           .filterDate(f\"{y0}-01-01\", f\"{y1}-01-01\")\n",
    "           .filterBounds(region)\n",
    "           .mosaic()\n",
    "           .clip(region)\n",
    "           .toFloat()\n",
    "    )\n",
    "\n",
    "emb_2018 = get_satellite_embeddings(2018, 2019)\n",
    "emb_2024 = get_satellite_embeddings(2024, 2025)"
   ]
  },
  {
   "cell_type": "code",
   "execution_count": 20,
   "id": "c884b69e",
   "metadata": {},
   "outputs": [
    {
     "data": {
      "text/html": [
       "\n",
       "            <style>\n",
       "                .geemap-dark {\n",
       "                    --jp-widgets-color: white;\n",
       "                    --jp-widgets-label-color: white;\n",
       "                    --jp-ui-font-color1: white;\n",
       "                    --jp-layout-color2: #454545;\n",
       "                    background-color: #383838;\n",
       "                }\n",
       "\n",
       "                .geemap-dark .jupyter-button {\n",
       "                    --jp-layout-color3: #383838;\n",
       "                }\n",
       "\n",
       "                .geemap-colab {\n",
       "                    background-color: var(--colab-primary-surface-color, white);\n",
       "                }\n",
       "\n",
       "                .geemap-colab .jupyter-button {\n",
       "                    --jp-layout-color3: var(--colab-primary-surface-color, white);\n",
       "                }\n",
       "            </style>\n",
       "            "
      ],
      "text/plain": [
       "<IPython.core.display.HTML object>"
      ]
     },
     "metadata": {},
     "output_type": "display_data"
    },
    {
     "name": "stdout",
     "output_type": "stream",
     "text": [
      "Generating URL ...\n",
      "Downloading data from https://earthengine.googleapis.com/v1/projects/ee-milos-makes-maps/thumbnails/8512640d62ef743a6bfe792d37225b4b-5e707c9a49b72a36e481b201f51c89d3:getPixels\n",
      "Please wait ...\n",
      "Data downloaded to d:\\python-scripts\\ee_outputs\\mean_absolute_difference.tif\n"
     ]
    }
   ],
   "source": [
    "# Mean absolute difference across bands (single-band image)\n",
    "mad_img = emb_2024.subtract(emb_2018).abs().reduce(ee.Reducer.mean())\n",
    "mad_tif = OUTDIR / \"mean_absolute_difference.tif\"\n",
    "geemap.ee_export_image(mad_img, filename=str(mad_tif), scale=10, region=region)"
   ]
  },
  {
   "cell_type": "code",
   "execution_count": 21,
   "id": "d51f32da",
   "metadata": {},
   "outputs": [
    {
     "data": {
      "text/html": [
       "\n",
       "            <style>\n",
       "                .geemap-dark {\n",
       "                    --jp-widgets-color: white;\n",
       "                    --jp-widgets-label-color: white;\n",
       "                    --jp-ui-font-color1: white;\n",
       "                    --jp-layout-color2: #454545;\n",
       "                    background-color: #383838;\n",
       "                }\n",
       "\n",
       "                .geemap-dark .jupyter-button {\n",
       "                    --jp-layout-color3: #383838;\n",
       "                }\n",
       "\n",
       "                .geemap-colab {\n",
       "                    background-color: var(--colab-primary-surface-color, white);\n",
       "                }\n",
       "\n",
       "                .geemap-colab .jupyter-button {\n",
       "                    --jp-layout-color3: var(--colab-primary-surface-color, white);\n",
       "                }\n",
       "            </style>\n",
       "            "
      ],
      "text/plain": [
       "<IPython.core.display.HTML object>"
      ]
     },
     "metadata": {},
     "output_type": "display_data"
    },
    {
     "name": "stdout",
     "output_type": "stream",
     "text": [
      "Generating URL ...\n",
      "Downloading data from https://earthengine.googleapis.com/v1/projects/ee-milos-makes-maps/thumbnails/3d0a741e55c713cc310775c272491965-cb883360c860a3ca1f40e8512b64f998:getPixels\n",
      "Please wait ...\n",
      "Data downloaded to d:\\python-scripts\\ee_outputs\\cosine_2018_2024.tif\n"
     ]
    }
   ],
   "source": [
    "# Cosine similarity across 64-D embeddings (single-band image)\n",
    "a = emb_2018.toArray()\n",
    "b = emb_2024.toArray()\n",
    "\n",
    "# dot(a,b)\n",
    "dot = a.multiply(b).arrayReduce(ee.Reducer.sum(), [0]).arrayGet([0])\n",
    "na = a.multiply(a).arrayReduce(ee.Reducer.sum(), [0]).arrayGet([0]).sqrt()\n",
    "nb = b.multiply(b).arrayReduce(ee.Reducer.sum(), [0]).arrayGet([0]).sqrt()\n",
    "\n",
    "# Avoid divide-by-zero, clamp to [-1, 1], and name the band\n",
    "den = na.multiply(nb)\n",
    "cos = dot.divide(den).clamp(-1, 1).updateMask(den.neq(0)).rename('cosine')\n",
    "\n",
    "# Export (use positional args or ee_image= depending on your geemap version)\n",
    "cos_tif = OUTDIR / \"cosine_2018_2024.tif\"\n",
    "geemap.ee_export_image(cos, str(cos_tif), scale = 10, region=region)"
   ]
  },
  {
   "cell_type": "code",
   "execution_count": 24,
   "id": "108be70c",
   "metadata": {},
   "outputs": [
    {
     "data": {
      "text/html": [
       "\n",
       "            <style>\n",
       "                .geemap-dark {\n",
       "                    --jp-widgets-color: white;\n",
       "                    --jp-widgets-label-color: white;\n",
       "                    --jp-ui-font-color1: white;\n",
       "                    --jp-layout-color2: #454545;\n",
       "                    background-color: #383838;\n",
       "                }\n",
       "\n",
       "                .geemap-dark .jupyter-button {\n",
       "                    --jp-layout-color3: #383838;\n",
       "                }\n",
       "\n",
       "                .geemap-colab {\n",
       "                    background-color: var(--colab-primary-surface-color, white);\n",
       "                }\n",
       "\n",
       "                .geemap-colab .jupyter-button {\n",
       "                    --jp-layout-color3: var(--colab-primary-surface-color, white);\n",
       "                }\n",
       "            </style>\n",
       "            "
      ],
      "text/plain": [
       "<IPython.core.display.HTML object>"
      ]
     },
     "metadata": {},
     "output_type": "display_data"
    }
   ],
   "source": [
    "# ---- SECTION 16 & 18: Local Visualization of change maps ----\n",
    "def plot_single_band_tif(\n",
    "        tif_path: Path, title: str, cmap=\"magma\",\n",
    "        vmin=None, vmax=None, outfile: Path = None\n",
    "):\n",
    "    with rasterio.open(tif_path) as src:\n",
    "        arr = src.read(1)\n",
    "        extent = [src.bounds.left, src.bounds.right, src.bounds.bottom, src.bounds.top]\n",
    "    fig = plt.figure(figsize=(7.5, 6))\n",
    "    plt.imshow(arr, cmap=cmap, vmin=vmin, vmax=vmax)\n",
    "    plt.title(title)\n",
    "    plt.xticks([]), plt.yticks([])\n",
    "    cbar = plt.colorbar()\n",
    "    if outfile is not None:\n",
    "        plt.savefig(outfile, dpi=600, bbox_inches=\"tight\")\n",
    "    plt.close(fig)\n",
    "\n",
    "mad_png = OUTDIR / \"mean_absolute_difference.png\"\n",
    "plot_single_band_tif(\n",
    "    mad_tif, title = \"Mean Absolute Difference (2018-2024)\",\n",
    "    cmap=\"magma\", outfile=mad_png\n",
    ")\n",
    "\n",
    "cos_png = OUTDIR / \"cosine_change_heatmap.png\"\n",
    "plot_single_band_tif(\n",
    "    cos_tif, title = \"Cosine Similarity (2018-2024)\\nLower = more change\",\n",
    "    cmap=\"magma\", vmin = -1, vmax = 1, outfile=cos_png\n",
    ")\n"
   ]
  }
 ],
 "metadata": {
  "kernelspec": {
   "display_name": "Python 3",
   "language": "python",
   "name": "python3"
  },
  "language_info": {
   "codemirror_mode": {
    "name": "ipython",
    "version": 3
   },
   "file_extension": ".py",
   "mimetype": "text/x-python",
   "name": "python",
   "nbconvert_exporter": "python",
   "pygments_lexer": "ipython3",
   "version": "3.13.5"
  }
 },
 "nbformat": 4,
 "nbformat_minor": 5
}
